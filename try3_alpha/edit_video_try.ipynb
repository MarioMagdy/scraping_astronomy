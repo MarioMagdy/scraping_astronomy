{
 "cells": [
  {
   "cell_type": "code",
   "execution_count": 2,
   "metadata": {},
   "outputs": [
    {
     "name": "stdout",
     "output_type": "stream",
     "text": [
      "Collecting moviepy\n",
      "  Downloading moviepy-1.0.3.tar.gz (388 kB)\n",
      "     -------------------------------------- 388.3/388.3 kB 2.0 MB/s eta 0:00:00\n",
      "  Preparing metadata (setup.py): started\n",
      "  Preparing metadata (setup.py): finished with status 'done'\n",
      "Collecting decorator<5.0,>=4.0.2\n",
      "  Downloading decorator-4.4.2-py2.py3-none-any.whl (9.2 kB)\n",
      "Requirement already satisfied: tqdm<5.0,>=4.11.2 in c:\\users\\mario\\appdata\\local\\packages\\pythonsoftwarefoundation.python.3.10_qbz5n2kfra8p0\\localcache\\local-packages\\python310\\site-packages (from moviepy) (4.64.1)\n",
      "Requirement already satisfied: requests<3.0,>=2.8.1 in c:\\users\\mario\\appdata\\local\\packages\\pythonsoftwarefoundation.python.3.10_qbz5n2kfra8p0\\localcache\\local-packages\\python310\\site-packages (from moviepy) (2.28.1)\n",
      "Collecting proglog<=1.0.0\n",
      "  Downloading proglog-0.1.10-py3-none-any.whl (6.1 kB)\n",
      "Requirement already satisfied: numpy>=1.17.3 in c:\\users\\mario\\appdata\\local\\packages\\pythonsoftwarefoundation.python.3.10_qbz5n2kfra8p0\\localcache\\local-packages\\python310\\site-packages (from moviepy) (1.22.1)\n",
      "Requirement already satisfied: imageio<3.0,>=2.5 in c:\\users\\mario\\appdata\\local\\packages\\pythonsoftwarefoundation.python.3.10_qbz5n2kfra8p0\\localcache\\local-packages\\python310\\site-packages (from moviepy) (2.21.0)\n",
      "Collecting imageio_ffmpeg>=0.2.0\n",
      "  Downloading imageio_ffmpeg-0.4.8-py3-none-win_amd64.whl (22.6 MB)\n",
      "     ---------------------------------------- 22.6/22.6 MB 2.9 MB/s eta 0:00:00\n",
      "Requirement already satisfied: pillow>=8.3.2 in c:\\users\\mario\\appdata\\local\\packages\\pythonsoftwarefoundation.python.3.10_qbz5n2kfra8p0\\localcache\\local-packages\\python310\\site-packages (from imageio<3.0,>=2.5->moviepy) (9.2.0)\n",
      "Requirement already satisfied: charset-normalizer<3,>=2 in c:\\users\\mario\\appdata\\local\\packages\\pythonsoftwarefoundation.python.3.10_qbz5n2kfra8p0\\localcache\\local-packages\\python310\\site-packages (from requests<3.0,>=2.8.1->moviepy) (2.1.1)\n",
      "Requirement already satisfied: certifi>=2017.4.17 in c:\\users\\mario\\appdata\\local\\packages\\pythonsoftwarefoundation.python.3.10_qbz5n2kfra8p0\\localcache\\local-packages\\python310\\site-packages (from requests<3.0,>=2.8.1->moviepy) (2022.6.15)\n",
      "Requirement already satisfied: idna<4,>=2.5 in c:\\users\\mario\\appdata\\local\\packages\\pythonsoftwarefoundation.python.3.10_qbz5n2kfra8p0\\localcache\\local-packages\\python310\\site-packages (from requests<3.0,>=2.8.1->moviepy) (3.3)\n",
      "Requirement already satisfied: urllib3<1.27,>=1.21.1 in c:\\users\\mario\\appdata\\local\\packages\\pythonsoftwarefoundation.python.3.10_qbz5n2kfra8p0\\localcache\\local-packages\\python310\\site-packages (from requests<3.0,>=2.8.1->moviepy) (1.26.11)\n",
      "Requirement already satisfied: colorama in c:\\users\\mario\\appdata\\local\\packages\\pythonsoftwarefoundation.python.3.10_qbz5n2kfra8p0\\localcache\\local-packages\\python310\\site-packages (from tqdm<5.0,>=4.11.2->moviepy) (0.4.6)\n",
      "Building wheels for collected packages: moviepy\n",
      "  Building wheel for moviepy (setup.py): started\n",
      "  Building wheel for moviepy (setup.py): finished with status 'done'\n",
      "  Created wheel for moviepy: filename=moviepy-1.0.3-py3-none-any.whl size=110728 sha256=36308d1ba2b3da6729f7f26b84b2174ed4c0c183d63b14a9861ac52585d7e906\n",
      "  Stored in directory: c:\\users\\mario\\appdata\\local\\pip\\cache\\wheels\\96\\32\\2d\\e10123bd88fbfc02fed53cc18c80a171d3c87479ed845fa7c1\n",
      "Successfully built moviepy\n",
      "Installing collected packages: imageio_ffmpeg, decorator, proglog, moviepy\n",
      "  Attempting uninstall: decorator\n",
      "    Found existing installation: decorator 5.1.1\n",
      "    Uninstalling decorator-5.1.1:\n",
      "      Successfully uninstalled decorator-5.1.1\n",
      "Successfully installed decorator-4.4.2 imageio_ffmpeg-0.4.8 moviepy-1.0.3 proglog-0.1.10\n"
     ]
    },
    {
     "name": "stderr",
     "output_type": "stream",
     "text": [
      "\n",
      "[notice] A new release of pip available: 22.2.2 -> 23.1\n",
      "[notice] To update, run: C:\\Users\\Mario\\AppData\\Local\\Microsoft\\WindowsApps\\PythonSoftwareFoundation.Python.3.10_qbz5n2kfra8p0\\python.exe -m pip install --upgrade pip\n"
     ]
    }
   ],
   "source": [
    "! pip install moviepy"
   ]
  },
  {
   "cell_type": "code",
   "execution_count": 1,
   "metadata": {},
   "outputs": [
    {
     "name": "stdout",
     "output_type": "stream",
     "text": [
      "321312\n"
     ]
    }
   ],
   "source": [
    "import find_edge2\n",
    "\n",
    "find_edge2.find_centroids(321312)\n"
   ]
  },
  {
   "cell_type": "code",
   "execution_count": 21,
   "metadata": {},
   "outputs": [],
   "source": [
    "\n",
    "from moviepy.editor import AudioFileClip, ImageClip\n",
    "\n",
    "\n",
    "def add_static_image_to_audio(image_path, audio_path, output_path):\n",
    "    \"\"\"Create and save a video file to `output_path` after \n",
    "    combining a static image that is located in `image_path` \n",
    "    with an audio file in `audio_path`\"\"\"\n",
    "    # create the audio clip object\n",
    "    audio_clip = AudioFileClip(audio_path)\n",
    "    # create the image clip object\n",
    "    image_clip = ImageClip(image_path)\n",
    "    # use set_audio method from image clip to combine the audio with the image\n",
    "    video_clip = image_clip.set_audio(audio_clip)\n",
    "    # specify the duration of the new clip to be the duration of the audio clip\n",
    "    video_clip.duration = audio_clip.duration\n",
    "    # set the FPS to 1\n",
    "    video_clip.fps = 1\n",
    "    # write the resuling video clip\n",
    "    video_clip.write_videofile(output_path)"
   ]
  },
  {
   "cell_type": "code",
   "execution_count": 15,
   "metadata": {},
   "outputs": [
    {
     "name": "stderr",
     "output_type": "stream",
     "text": [
      "                                                              \n",
      "                                                              \n",
      "t:  55%|█████▍    | 137/250 [06:08<00:06, 18.11it/s, now=None]"
     ]
    },
    {
     "name": "stdout",
     "output_type": "stream",
     "text": [
      "Moviepy - Building video H:\\SPEAMMMM\\TikTok\\try 2\\vids\\my_video.mp4.\n",
      "MoviePy - Writing audio in my_videoTEMP_MPY_wvf_snd.mp3\n"
     ]
    },
    {
     "name": "stderr",
     "output_type": "stream",
     "text": [
      "\n",
      "\u001b[A\n",
      "\u001b[A\n",
      "\u001b[A\n",
      "\u001b[A\n",
      "\u001b[A\n",
      "\u001b[A\n",
      "\u001b[A\n",
      "                                                              \n",
      "                                                              \n",
      "t:  55%|█████▍    | 137/250 [06:09<00:06, 18.11it/s, now=None]"
     ]
    },
    {
     "name": "stdout",
     "output_type": "stream",
     "text": [
      "MoviePy - Done.\n",
      "Moviepy - Writing video H:\\SPEAMMMM\\TikTok\\try 2\\vids\\my_video.mp4\n",
      "\n"
     ]
    },
    {
     "name": "stderr",
     "output_type": "stream",
     "text": [
      "\n",
      "\u001b[A\n",
      "\u001b[A\n",
      "\u001b[A\n",
      "                                                              \n",
      "                                                              \n",
      "t:  55%|█████▍    | 137/250 [06:10<00:06, 18.11it/s, now=None]"
     ]
    },
    {
     "name": "stdout",
     "output_type": "stream",
     "text": [
      "Moviepy - Done !\n",
      "Moviepy - video ready H:\\SPEAMMMM\\TikTok\\try 2\\vids\\my_video.mp4\n"
     ]
    }
   ],
   "source": [
    "\n",
    "import moviepy.editor as mpy\n",
    "\n",
    "\n",
    "\n",
    "clip = mpy.ImageSequenceClip(r'H:\\SPEAMMMM\\TikTok\\try 2\\test image\\same size imgs', fps=.2) # use 3 images in this folder\n",
    "audio = mpy.AudioFileClip(r\"H:\\SPEAMMMM\\TikTok\\try 2\\test image\\rec\\prob short.aac\").set_duration(clip.duration) # use any audio file\n",
    "# clip = clip.resize(lambda t: 1 + 0.01 * t) # zoom in by 1% each frame\n",
    "clip.audio = audio\n",
    "clip.write_videofile(r\"H:\\SPEAMMMM\\TikTok\\try 2\\vids\\my_video.mp4\") # save the video as mp4\n",
    "\n",
    "\n",
    "\n",
    "\n"
   ]
  },
  {
   "cell_type": "code",
   "execution_count": 12,
   "metadata": {},
   "outputs": [],
   "source": [
    "import moviepy.editor as mp\n",
    "import math\n",
    "from PIL import Image\n",
    "import numpy\n",
    "\n",
    "def zoom_in_effect(clip, zoom_ratio=0.04):\n",
    "    def effect(get_frame, t):\n",
    "        img = Image.fromarray(get_frame(t))\n",
    "        base_size = img.size\n",
    "\n",
    "        new_size = [\n",
    "            math.ceil(img.size[0] * (1 + (zoom_ratio * t))),\n",
    "            math.ceil(img.size[1] * (1 + (zoom_ratio * t)))\n",
    "        ]\n",
    "\n",
    "        # The new dimensions must be even.\n",
    "        new_size[0] = new_size[0] + (new_size[0] % 2)\n",
    "        new_size[1] = new_size[1] + (new_size[1] % 2)\n",
    "\n",
    "        img = img.resize(new_size, Image.LANCZOS)\n",
    "\n",
    "        x = math.ceil((new_size[0] - base_size[0]) / 2)\n",
    "        y = math.ceil((new_size[1] - base_size[1]) / 2)\n",
    "\n",
    "        img = img.crop([\n",
    "            x, y, new_size[0] - x, new_size[1] - y\n",
    "        ]).resize(base_size, Image.LANCZOS)\n",
    "\n",
    "        result = numpy.array(img)\n",
    "        img.close()\n",
    "\n",
    "        return result\n",
    "\n",
    "    return clip.fl(effect)\n"
   ]
  },
  {
   "cell_type": "code",
   "execution_count": 7,
   "metadata": {},
   "outputs": [
    {
     "data": {
      "text/plain": [
       "['H:\\\\SPEAMMMM\\\\TikTok\\\\try 2\\\\test image\\\\same size imgs\\\\Screenshot (4).png',\n",
       " 'H:\\\\SPEAMMMM\\\\TikTok\\\\try 2\\\\test image\\\\same size imgs\\\\Screenshot (5).png',\n",
       " 'H:\\\\SPEAMMMM\\\\TikTok\\\\try 2\\\\test image\\\\same size imgs\\\\Screenshot (6).png',\n",
       " 'H:\\\\SPEAMMMM\\\\TikTok\\\\try 2\\\\test image\\\\same size imgs\\\\Screenshot (7).png',\n",
       " 'H:\\\\SPEAMMMM\\\\TikTok\\\\try 2\\\\test image\\\\same size imgs\\\\Screenshot (8).png',\n",
       " 'H:\\\\SPEAMMMM\\\\TikTok\\\\try 2\\\\test image\\\\same size imgs\\\\Screenshot (9).png']"
      ]
     },
     "execution_count": 7,
     "metadata": {},
     "output_type": "execute_result"
    }
   ],
   "source": [
    "import os\n",
    "\n",
    "def getListOfFiles(dirName):\n",
    "    # create a list of file and sub directories \n",
    "    # names in the given directory \n",
    "    listOfFile = os.listdir(dirName)\n",
    "    allFiles = list()\n",
    "    # Iterate over all the entries\n",
    "    for entry in listOfFile:\n",
    "        # Create full path\n",
    "        fullPath = os.path.join(dirName, entry)\n",
    "        # If entry is a directory then get the list of files in this directory \n",
    "        if os.path.isdir(fullPath):\n",
    "            allFiles = allFiles + getListOfFiles(fullPath)\n",
    "        else:\n",
    "            allFiles.append(fullPath)\n",
    "                \n",
    "    return allFiles\n",
    "\n",
    "listOfFiles = getListOfFiles(r\"H:\\SPEAMMMM\\TikTok\\try 2\\test image\\same size imgs\")\n",
    "listOfFiles"
   ]
  },
  {
   "cell_type": "code",
   "execution_count": 14,
   "metadata": {},
   "outputs": [
    {
     "name": "stderr",
     "output_type": "stream",
     "text": [
      "                                                              \n",
      "                                                              \n",
      "t:  55%|█████▍    | 137/250 [04:36<00:06, 18.11it/s, now=None]"
     ]
    },
    {
     "name": "stdout",
     "output_type": "stream",
     "text": [
      "Moviepy - Building video H:\\SPEAMMMM\\TikTok\\try 2\\vids\\parts\\my_video0.mp4.\n",
      "Moviepy - Writing video H:\\SPEAMMMM\\TikTok\\try 2\\vids\\parts\\my_video0.mp4\n",
      "\n"
     ]
    },
    {
     "name": "stderr",
     "output_type": "stream",
     "text": [
      "\n",
      "\u001b[A\n",
      "\u001b[A\n",
      "\u001b[A\n",
      "\u001b[A\n",
      "\u001b[A\n",
      "\u001b[A\n",
      "\u001b[A\n",
      "\u001b[A\n",
      "\u001b[A\n",
      "\u001b[A\n",
      "\u001b[A\n",
      "\u001b[A\n",
      "\u001b[A\n",
      "\u001b[A\n",
      "\u001b[A\n",
      "\u001b[A\n",
      "\u001b[A\n",
      "\u001b[A\n",
      "\u001b[A\n",
      "\u001b[A\n",
      "\u001b[A\n",
      "\u001b[A\n",
      "\u001b[A\n",
      "\u001b[A\n",
      "\u001b[A\n",
      "\u001b[A\n",
      "\u001b[A\n",
      "\u001b[A\n",
      "\u001b[A\n",
      "\u001b[A\n",
      "\u001b[A\n",
      "\u001b[A\n",
      "\u001b[A\n",
      "\u001b[A\n",
      "\u001b[A\n",
      "\u001b[A\n",
      "\u001b[A\n",
      "\u001b[A\n",
      "\u001b[A\n",
      "\u001b[A\n",
      "\u001b[A\n",
      "\u001b[A\n",
      "\u001b[A\n",
      "\u001b[A\n",
      "\u001b[A\n",
      "\u001b[A\n",
      "\u001b[A\n",
      "\u001b[A\n",
      "\u001b[A\n",
      "\u001b[A\n",
      "\u001b[A\n",
      "\u001b[A\n",
      "\u001b[A\n",
      "\u001b[A\n",
      "\u001b[A\n",
      "\u001b[A\n",
      "\u001b[A\n",
      "\u001b[A\n",
      "\u001b[A\n",
      "\u001b[A\n",
      "\u001b[A\n",
      "\u001b[A\n",
      "                                                              \n",
      "                                                              \n",
      "t:  55%|█████▍    | 137/250 [04:47<00:06, 18.11it/s, now=None]"
     ]
    },
    {
     "name": "stdout",
     "output_type": "stream",
     "text": [
      "Moviepy - Done !\n",
      "Moviepy - video ready H:\\SPEAMMMM\\TikTok\\try 2\\vids\\parts\\my_video0.mp4\n"
     ]
    },
    {
     "name": "stderr",
     "output_type": "stream",
     "text": [
      "                                                              \n",
      "                                                              \n",
      "t:  55%|█████▍    | 137/250 [04:47<00:06, 18.11it/s, now=None]"
     ]
    },
    {
     "name": "stdout",
     "output_type": "stream",
     "text": [
      "Moviepy - Building video H:\\SPEAMMMM\\TikTok\\try 2\\vids\\parts\\my_video1.mp4.\n",
      "Moviepy - Writing video H:\\SPEAMMMM\\TikTok\\try 2\\vids\\parts\\my_video1.mp4\n",
      "\n"
     ]
    },
    {
     "name": "stderr",
     "output_type": "stream",
     "text": [
      "\n",
      "\u001b[A\n",
      "\u001b[A\n",
      "\u001b[A\n",
      "\u001b[A\n",
      "\u001b[A\n",
      "\u001b[A\n",
      "\u001b[A\n",
      "\u001b[A\n",
      "\u001b[A\n",
      "\u001b[A\n",
      "\u001b[A\n",
      "\u001b[A\n",
      "\u001b[A\n",
      "\u001b[A\n",
      "\u001b[A\n",
      "\u001b[A\n",
      "\u001b[A\n",
      "\u001b[A\n",
      "\u001b[A\n",
      "\u001b[A\n",
      "\u001b[A\n",
      "\u001b[A\n",
      "\u001b[A\n",
      "\u001b[A\n",
      "\u001b[A\n",
      "\u001b[A\n",
      "\u001b[A\n",
      "\u001b[A\n",
      "\u001b[A\n",
      "\u001b[A\n",
      "\u001b[A\n",
      "\u001b[A\n",
      "\u001b[A\n",
      "\u001b[A\n",
      "\u001b[A\n",
      "\u001b[A\n",
      "\u001b[A\n",
      "\u001b[A\n",
      "\u001b[A\n",
      "\u001b[A\n",
      "\u001b[A\n",
      "\u001b[A\n",
      "\u001b[A\n",
      "\u001b[A\n",
      "\u001b[A\n",
      "\u001b[A\n",
      "\u001b[A\n",
      "\u001b[A\n",
      "\u001b[A\n",
      "\u001b[A\n",
      "\u001b[A\n",
      "\u001b[A\n",
      "\u001b[A\n",
      "\u001b[A\n",
      "\u001b[A\n",
      "\u001b[A\n",
      "\u001b[A\n",
      "\u001b[A\n",
      "\u001b[A\n",
      "\u001b[A\n",
      "\u001b[A\n",
      "\u001b[A\n",
      "                                                              \n",
      "                                                              \n",
      "t:  55%|█████▍    | 137/250 [04:59<00:06, 18.11it/s, now=None]"
     ]
    },
    {
     "name": "stdout",
     "output_type": "stream",
     "text": [
      "Moviepy - Done !\n",
      "Moviepy - video ready H:\\SPEAMMMM\\TikTok\\try 2\\vids\\parts\\my_video1.mp4\n"
     ]
    },
    {
     "name": "stderr",
     "output_type": "stream",
     "text": [
      "                                                              \n",
      "                                                              \n",
      "t:  55%|█████▍    | 137/250 [04:59<00:06, 18.11it/s, now=None]"
     ]
    },
    {
     "name": "stdout",
     "output_type": "stream",
     "text": [
      "Moviepy - Building video H:\\SPEAMMMM\\TikTok\\try 2\\vids\\parts\\my_video2.mp4.\n",
      "Moviepy - Writing video H:\\SPEAMMMM\\TikTok\\try 2\\vids\\parts\\my_video2.mp4\n",
      "\n"
     ]
    },
    {
     "name": "stderr",
     "output_type": "stream",
     "text": [
      "\n",
      "\u001b[A\n",
      "\u001b[A\n",
      "\u001b[A\n",
      "\u001b[A\n",
      "\u001b[A\n",
      "\u001b[A\n",
      "\u001b[A\n",
      "\u001b[A\n",
      "\u001b[A\n",
      "\u001b[A\n",
      "\u001b[A\n",
      "\u001b[A\n",
      "\u001b[A\n",
      "\u001b[A\n",
      "\u001b[A\n",
      "\u001b[A\n",
      "\u001b[A\n",
      "\u001b[A\n",
      "\u001b[A\n",
      "\u001b[A\n",
      "\u001b[A\n",
      "\u001b[A\n",
      "\u001b[A\n",
      "\u001b[A\n",
      "\u001b[A\n",
      "\u001b[A\n",
      "\u001b[A\n",
      "\u001b[A\n",
      "\u001b[A\n",
      "\u001b[A\n",
      "\u001b[A\n",
      "\u001b[A\n",
      "\u001b[A\n",
      "\u001b[A\n",
      "\u001b[A\n",
      "\u001b[A\n",
      "\u001b[A\n",
      "\u001b[A\n",
      "\u001b[A\n",
      "\u001b[A\n",
      "\u001b[A\n",
      "\u001b[A\n",
      "\u001b[A\n",
      "\u001b[A\n",
      "\u001b[A\n",
      "\u001b[A\n",
      "\u001b[A\n",
      "\u001b[A\n",
      "\u001b[A\n",
      "\u001b[A\n",
      "\u001b[A\n",
      "\u001b[A\n",
      "\u001b[A\n",
      "\u001b[A\n",
      "\u001b[A\n",
      "\u001b[A\n",
      "\u001b[A\n",
      "\u001b[A\n",
      "\u001b[A\n",
      "\u001b[A\n",
      "\u001b[A\n",
      "\u001b[A\n",
      "\u001b[A\n",
      "\u001b[A\n",
      "                                                              \n",
      "                                                              \n",
      "t:  55%|█████▍    | 137/250 [05:11<00:06, 18.11it/s, now=None]"
     ]
    },
    {
     "name": "stdout",
     "output_type": "stream",
     "text": [
      "Moviepy - Done !\n",
      "Moviepy - video ready H:\\SPEAMMMM\\TikTok\\try 2\\vids\\parts\\my_video2.mp4\n"
     ]
    },
    {
     "name": "stderr",
     "output_type": "stream",
     "text": [
      "                                                              \n",
      "                                                              \n",
      "t:  55%|█████▍    | 137/250 [05:11<00:06, 18.11it/s, now=None]"
     ]
    },
    {
     "name": "stdout",
     "output_type": "stream",
     "text": [
      "Moviepy - Building video H:\\SPEAMMMM\\TikTok\\try 2\\vids\\parts\\my_video3.mp4.\n",
      "Moviepy - Writing video H:\\SPEAMMMM\\TikTok\\try 2\\vids\\parts\\my_video3.mp4\n",
      "\n"
     ]
    },
    {
     "name": "stderr",
     "output_type": "stream",
     "text": [
      "\n",
      "\u001b[A\n",
      "\u001b[A\n",
      "\u001b[A\n",
      "\u001b[A\n",
      "\u001b[A\n",
      "\u001b[A\n",
      "\u001b[A\n",
      "\u001b[A\n",
      "\u001b[A\n",
      "\u001b[A\n",
      "\u001b[A\n",
      "\u001b[A\n",
      "\u001b[A\n",
      "\u001b[A\n",
      "\u001b[A\n",
      "\u001b[A\n",
      "\u001b[A\n",
      "\u001b[A\n",
      "\u001b[A\n",
      "\u001b[A\n",
      "\u001b[A\n",
      "\u001b[A\n",
      "\u001b[A\n",
      "\u001b[A\n",
      "\u001b[A\n",
      "\u001b[A\n",
      "\u001b[A\n",
      "\u001b[A\n",
      "\u001b[A\n",
      "\u001b[A\n",
      "\u001b[A\n",
      "\u001b[A\n",
      "\u001b[A\n",
      "\u001b[A\n",
      "\u001b[A\n",
      "\u001b[A\n",
      "\u001b[A\n",
      "\u001b[A\n",
      "\u001b[A\n",
      "\u001b[A\n",
      "\u001b[A\n",
      "\u001b[A\n",
      "\u001b[A\n",
      "\u001b[A\n",
      "\u001b[A\n",
      "\u001b[A\n",
      "\u001b[A\n",
      "\u001b[A\n",
      "\u001b[A\n",
      "\u001b[A\n",
      "\u001b[A\n",
      "\u001b[A\n",
      "\u001b[A\n",
      "\u001b[A\n",
      "\u001b[A\n",
      "\u001b[A\n",
      "\u001b[A\n",
      "\u001b[A\n",
      "\u001b[A\n",
      "\u001b[A\n",
      "\u001b[A\n",
      "\u001b[A\n",
      "\u001b[A\n",
      "\u001b[A\n",
      "\u001b[A\n",
      "\u001b[A\n",
      "\u001b[A\n",
      "                                                              \n",
      "                                                              \n",
      "t:  55%|█████▍    | 137/250 [05:23<00:06, 18.11it/s, now=None]"
     ]
    },
    {
     "name": "stdout",
     "output_type": "stream",
     "text": [
      "Moviepy - Done !\n",
      "Moviepy - video ready H:\\SPEAMMMM\\TikTok\\try 2\\vids\\parts\\my_video3.mp4\n"
     ]
    },
    {
     "name": "stderr",
     "output_type": "stream",
     "text": [
      "                                                              \n",
      "                                                              \n",
      "t:  55%|█████▍    | 137/250 [05:23<00:06, 18.11it/s, now=None]"
     ]
    },
    {
     "name": "stdout",
     "output_type": "stream",
     "text": [
      "Moviepy - Building video H:\\SPEAMMMM\\TikTok\\try 2\\vids\\parts\\my_video4.mp4.\n",
      "Moviepy - Writing video H:\\SPEAMMMM\\TikTok\\try 2\\vids\\parts\\my_video4.mp4\n",
      "\n"
     ]
    },
    {
     "name": "stderr",
     "output_type": "stream",
     "text": [
      "\n",
      "\u001b[A\n",
      "\u001b[A\n",
      "\u001b[A\n",
      "\u001b[A\n",
      "\u001b[A\n",
      "\u001b[A\n",
      "\u001b[A\n",
      "\u001b[A\n",
      "\u001b[A\n",
      "\u001b[A\n",
      "\u001b[A\n",
      "\u001b[A\n",
      "\u001b[A\n",
      "\u001b[A\n",
      "\u001b[A\n",
      "\u001b[A\n",
      "\u001b[A\n",
      "\u001b[A\n",
      "\u001b[A\n",
      "\u001b[A\n",
      "\u001b[A\n",
      "\u001b[A\n",
      "\u001b[A\n",
      "\u001b[A\n",
      "\u001b[A\n",
      "\u001b[A\n",
      "\u001b[A\n",
      "\u001b[A\n",
      "\u001b[A\n",
      "\u001b[A\n",
      "\u001b[A\n",
      "\u001b[A\n",
      "\u001b[A\n",
      "\u001b[A\n",
      "\u001b[A\n",
      "\u001b[A\n",
      "\u001b[A\n",
      "\u001b[A\n",
      "\u001b[A\n",
      "\u001b[A\n",
      "\u001b[A\n",
      "\u001b[A\n",
      "\u001b[A\n",
      "\u001b[A\n",
      "\u001b[A\n",
      "\u001b[A\n",
      "\u001b[A\n",
      "\u001b[A\n",
      "\u001b[A\n",
      "\u001b[A\n",
      "\u001b[A\n",
      "\u001b[A\n",
      "\u001b[A\n",
      "\u001b[A\n",
      "\u001b[A\n",
      "\u001b[A\n",
      "\u001b[A\n",
      "\u001b[A\n",
      "\u001b[A\n",
      "\u001b[A\n",
      "\u001b[A\n",
      "\u001b[A\n",
      "\u001b[A\n",
      "                                                              \n",
      "                                                              \n",
      "t:  55%|█████▍    | 137/250 [05:35<00:06, 18.11it/s, now=None]"
     ]
    },
    {
     "name": "stdout",
     "output_type": "stream",
     "text": [
      "Moviepy - Done !\n",
      "Moviepy - video ready H:\\SPEAMMMM\\TikTok\\try 2\\vids\\parts\\my_video4.mp4\n"
     ]
    },
    {
     "name": "stderr",
     "output_type": "stream",
     "text": [
      "                                                              \n",
      "                                                              \n",
      "t:  55%|█████▍    | 137/250 [05:36<00:06, 18.11it/s, now=None]"
     ]
    },
    {
     "name": "stdout",
     "output_type": "stream",
     "text": [
      "Moviepy - Building video H:\\SPEAMMMM\\TikTok\\try 2\\vids\\parts\\my_video5.mp4.\n",
      "Moviepy - Writing video H:\\SPEAMMMM\\TikTok\\try 2\\vids\\parts\\my_video5.mp4\n",
      "\n"
     ]
    },
    {
     "name": "stderr",
     "output_type": "stream",
     "text": [
      "\n",
      "\u001b[A\n",
      "\u001b[A\n",
      "\u001b[A\n",
      "\u001b[A\n",
      "\u001b[A\n",
      "\u001b[A\n",
      "\u001b[A\n",
      "\u001b[A\n",
      "\u001b[A\n",
      "\u001b[A\n",
      "\u001b[A\n",
      "\u001b[A\n",
      "\u001b[A\n",
      "\u001b[A\n",
      "\u001b[A\n",
      "\u001b[A\n",
      "\u001b[A\n",
      "\u001b[A\n",
      "\u001b[A\n",
      "\u001b[A\n",
      "\u001b[A\n",
      "\u001b[A\n",
      "\u001b[A\n",
      "\u001b[A\n",
      "\u001b[A\n",
      "\u001b[A\n",
      "\u001b[A\n",
      "\u001b[A\n",
      "\u001b[A\n",
      "\u001b[A\n",
      "\u001b[A\n",
      "\u001b[A\n",
      "\u001b[A\n",
      "\u001b[A\n",
      "\u001b[A\n",
      "\u001b[A\n",
      "\u001b[A\n",
      "\u001b[A\n",
      "\u001b[A\n",
      "\u001b[A\n",
      "\u001b[A\n",
      "\u001b[A\n",
      "\u001b[A\n",
      "\u001b[A\n",
      "\u001b[A\n",
      "\u001b[A\n",
      "\u001b[A\n",
      "\u001b[A\n",
      "\u001b[A\n",
      "\u001b[A\n",
      "\u001b[A\n",
      "\u001b[A\n",
      "\u001b[A\n",
      "\u001b[A\n",
      "\u001b[A\n",
      "\u001b[A\n",
      "\u001b[A\n",
      "\u001b[A\n",
      "\u001b[A\n",
      "\u001b[A\n",
      "\u001b[A\n",
      "\u001b[A\n",
      "\u001b[A\n",
      "\u001b[A\n",
      "\u001b[A\n",
      "\u001b[A\n",
      "                                                              \n",
      "                                                              \n",
      "t:  55%|█████▍    | 137/250 [05:48<00:06, 18.11it/s, now=None]"
     ]
    },
    {
     "name": "stdout",
     "output_type": "stream",
     "text": [
      "Moviepy - Done !\n",
      "Moviepy - video ready H:\\SPEAMMMM\\TikTok\\try 2\\vids\\parts\\my_video5.mp4\n"
     ]
    }
   ],
   "source": [
    "\n",
    "import moviepy.editor as mpy\n",
    "\n",
    "size = (1920, 1080)\n",
    "\n",
    "img = r'H:\\SPEAMMMM\\TikTok\\try 2\\test image\\same size imgs\\Screenshot (4).png'\n",
    "for ind,img in enumerate(listOfFiles):\n",
    "    clip = mp.ImageClip(img).set_fps(25).set_duration(5).resize(size)\n",
    "    audio = mpy.AudioFileClip(r\"H:\\SPEAMMMM\\TikTok\\try 2\\test image\\rec\\prob short.aac\").set_duration(clip.duration) # use any audio file\n",
    "    clip = zoom_in_effect(clip, 0.04)\n",
    "    clip.write_videofile(fr\"H:\\SPEAMMMM\\TikTok\\try 2\\vids\\parts\\my_video{ind}.mp4\",audio=False) # save the video as mp4\n"
   ]
  },
  {
   "cell_type": "code",
   "execution_count": 18,
   "metadata": {},
   "outputs": [],
   "source": [
    "audio = mpy.AudioFileClip(r\"H:\\SPEAMMMM\\TikTok\\try 2\\test image\\rec\\prob short.aac\") # use any audio a"
   ]
  },
  {
   "cell_type": "code",
   "execution_count": 19,
   "metadata": {},
   "outputs": [
    {
     "data": {
      "text/plain": [
       "35.4"
      ]
     },
     "execution_count": 19,
     "metadata": {},
     "output_type": "execute_result"
    }
   ],
   "source": [
    "audio.duration"
   ]
  },
  {
   "cell_type": "code",
   "execution_count": 4,
   "metadata": {},
   "outputs": [
    {
     "name": "stdout",
     "output_type": "stream",
     "text": [
      "Moviepy - Building video zoom-test-2.mp4.\n",
      "Moviepy - Writing video zoom-test-2.mp4\n",
      "\n"
     ]
    },
    {
     "name": "stderr",
     "output_type": "stream",
     "text": [
      "                                                              \r"
     ]
    },
    {
     "name": "stdout",
     "output_type": "stream",
     "text": [
      "Moviepy - Done !\n",
      "Moviepy - video ready zoom-test-2.mp4\n"
     ]
    }
   ],
   "source": [
    "\n",
    "\n",
    "\n",
    "size = (1920, 1080)\n",
    "\n",
    "img = r'H:\\SPEAMMMM\\TikTok\\try 2\\test image\\same size imgs\\Screenshot (4).png'\n",
    "\n",
    "slide = mp.ImageClip(img).set_fps(25).set_duration(10).resize(size)\n",
    "slide = zoom_in_effect(slide, 0.04)\n",
    "\n",
    "slide.write_videofile('zoom-test-2.mp4')"
   ]
  },
  {
   "cell_type": "code",
   "execution_count": 24,
   "metadata": {},
   "outputs": [
    {
     "name": "stderr",
     "output_type": "stream",
     "text": [
      "                                                              \n",
      "                                                              \n",
      "t:  55%|█████▍    | 137/250 [20:03<00:06, 18.11it/s, now=None]"
     ]
    },
    {
     "name": "stdout",
     "output_type": "stream",
     "text": [
      "Moviepy - Building video final_video.mp4.\n",
      "MoviePy - Writing audio in final_videoTEMP_MPY_wvf_snd.mp3\n"
     ]
    },
    {
     "name": "stderr",
     "output_type": "stream",
     "text": [
      "\n",
      "\u001b[A\n",
      "\u001b[A\n",
      "\u001b[A\n",
      "\u001b[A\n",
      "                                                              \n",
      "                                                              \n",
      "t:  55%|█████▍    | 137/250 [20:03<00:06, 18.11it/s, now=None]"
     ]
    },
    {
     "name": "stdout",
     "output_type": "stream",
     "text": [
      "MoviePy - Done.\n",
      "Moviepy - Writing video final_video.mp4\n",
      "\n"
     ]
    },
    {
     "name": "stderr",
     "output_type": "stream",
     "text": [
      "\n",
      "\u001b[A\n",
      "\u001b[A\n",
      "\u001b[A\n",
      "\u001b[A\n",
      "\u001b[A\n",
      "\u001b[A\n",
      "\u001b[A\n",
      "\u001b[A\n",
      "\u001b[A\n",
      "\u001b[A\n",
      "\u001b[A\n",
      "\u001b[A\n",
      "\u001b[A\n",
      "\u001b[A\n",
      "\u001b[A\n",
      "\u001b[A\n",
      "\u001b[A\n",
      "\u001b[A\n",
      "\u001b[A\n",
      "\u001b[A\n",
      "\u001b[A\n",
      "\u001b[A\n",
      "\u001b[A\n",
      "\u001b[A\n",
      "\u001b[A\n",
      "\u001b[A\n",
      "\u001b[A\n",
      "\u001b[A\n",
      "\u001b[A\n",
      "\u001b[A\n",
      "\u001b[A\n",
      "\u001b[A\n",
      "\u001b[A\n",
      "\u001b[A\n",
      "\u001b[A\n",
      "\u001b[A\n",
      "\u001b[A\n",
      "\u001b[A\n",
      "\u001b[A\n",
      "                                                              \n",
      "                                                              \n",
      "t:  55%|█████▍    | 137/250 [20:09<00:06, 18.11it/s, now=None]"
     ]
    },
    {
     "name": "stdout",
     "output_type": "stream",
     "text": [
      "Moviepy - Done !\n",
      "Moviepy - video ready final_video.mp4\n"
     ]
    }
   ],
   "source": [
    "import moviepy.editor as mpy\n",
    "\n",
    "# Load the videos\n",
    "video1_path = r'H:\\SPEAMMMM\\TikTok\\try 2\\vids\\parts\\my_video0.mp4'\n",
    "video2_path =r'H:\\SPEAMMMM\\TikTok\\try 2\\vids\\parts\\my_video1.mp4'\n",
    "\n",
    "video1 = mpy.VideoFileClip(video1_path)\n",
    "video2 = mpy.VideoFileClip(video2_path)\n",
    "\n",
    "# Load the audio\n",
    "audio_path = r'H:\\SPEAMMMM\\TikTok\\try 2\\test image\\rec\\prob.mp3'\n",
    "audio = mpy.AudioFileClip(audio_path)\n",
    "\n",
    "# Set the audio duration to match the combined duration of the videos\n",
    "audio = audio.set_duration(video1.duration + video2.duration)\n",
    "\n",
    "# Combine the videos\n",
    "final_video = mpy.concatenate_videoclips([video1, video2])\n",
    "\n",
    "# Add the audio to the final video\n",
    "final_video = final_video.set_audio(audio)\n",
    "\n",
    "# Write the final video to a file\n",
    "final_video.write_videofile('final_video.mp4')\n"
   ]
  }
 ],
 "metadata": {
  "kernelspec": {
   "display_name": "Python 3",
   "language": "python",
   "name": "python3"
  },
  "language_info": {
   "codemirror_mode": {
    "name": "ipython",
    "version": 3
   },
   "file_extension": ".py",
   "mimetype": "text/x-python",
   "name": "python",
   "nbconvert_exporter": "python",
   "pygments_lexer": "ipython3",
   "version": "3.10.11"
  },
  "orig_nbformat": 4
 },
 "nbformat": 4,
 "nbformat_minor": 2
}
