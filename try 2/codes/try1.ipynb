{
 "cells": [
  {
   "cell_type": "code",
   "execution_count": 21,
   "metadata": {},
   "outputs": [],
   "source": [
    "import pyautogui\n",
    "import time\n",
    "from random import uniform\n",
    "import pyperclip  # handy cross-platform clipboard text handler\n",
    "import cv2\n",
    "import numpy as np"
   ]
  },
  {
   "cell_type": "code",
   "execution_count": 2,
   "metadata": {},
   "outputs": [],
   "source": [
    "todays_script = \"\"\"Hey, did you know that the Sun is constantly losing weight? That’s right, every second, the Sun loses about one billion kilograms of matter due to the solar wind. The solar wind is a stream of charged particles that escape from the Sun’s surface and travel through space. To put that in perspective, that’s like losing the weight of 200 Eiffel Towers every second! But don’t worry, the Sun still has plenty of mass left to keep shining for billions of years. Follow me for more crazy facts about space!\"\"\""
   ]
  },
  {
   "cell_type": "code",
   "execution_count": 3,
   "metadata": {},
   "outputs": [],
   "source": [
    "Generate_script_prompt= [\"I'm making a short video 30 seconds for my tik tok talking about space and astronomy trying to make an exciting and enthusiastic video... Trying to make the videos exciting and people can relate to it while being useful and fun\",\"I need your help, I'm making a short video 30 seconds for my tik tok talking about space and astronomy trying to make exciting and enthusiastic video, Write me a script containing one fact, make the video script in no more than 80 word without instructions in the middle of the script, no intro, and a very short outro Just “follow me for more crazy facts”... try to make the illustrations or comparisons to illustrate the fact,  here is the fact I want you to use\"]\n",
    "\n",
    "Image_prompt_generator_prompt = \"I'm making a short video 30 seconds for my tik tok talking about space and astronomy trying to make exciting and enthusiastic video, I will make the video as an audio of a script being read and images of the things we talk about, while using the AI generated Images to illustrate, I'm going to change the image every 10 seconds, give me 3 image prompts suitable to illustrate what I will be talking about at that time, Make your answer ONLY the prompts no other notes or anything just the prompts that I will give to midjourney to generate the image and here is the video script in\"\n",
    "\n",
    "prompt_to_draw = \"draw\"\n",
    "\n",
    "bing_ai_clear_position = (1530, 980)\n",
    "bing_ai_text_position = (1700, 980)\n",
    "bing_ai_no_text_position = (1700, 910)\n",
    "bing_ai_scroller = (1850, 800)\n",
    "bing_ai_no_text_position2 = (1840, 500)\n",
    "bing_answer_position = (1640, 650)\n"
   ]
  },
  {
   "cell_type": "code",
   "execution_count": 4,
   "metadata": {},
   "outputs": [],
   "source": [
    "pyautogui.moveTo(bing_answer_position) "
   ]
  },
  {
   "cell_type": "code",
   "execution_count": 5,
   "metadata": {},
   "outputs": [],
   "source": [
    "def clear_bing_prompt():\n",
    "    \"clears the prompt only so you can write new one if needed\"\n",
    "    pyautogui.moveTo(bing_ai_text_position) # move the mouse to the pixel \n",
    "    time.sleep(0.3) # wait for 1 second\n",
    "    pyautogui.click() # click the mouse\n",
    "\n",
    "    pyautogui.hotkey(\"ctrl\", \"a\")\n",
    "    time.sleep(0.3) # wait for 1 seconds\n",
    "    pyautogui.hotkey(\"del\")"
   ]
  },
  {
   "cell_type": "code",
   "execution_count": 6,
   "metadata": {},
   "outputs": [],
   "source": [
    "\n",
    "def clear_bing():\n",
    "    \"clears the conversation  and the prompt\"\n",
    "    pyautogui.moveTo(bing_ai_text_position) # move the mouse to the pixel \n",
    "    time.sleep(0.3) # wait for 1 second\n",
    "    pyautogui.click() # click the mouse\n",
    "\n",
    "    pyautogui.hotkey(\"ctrl\", \"a\")\n",
    "    time.sleep(0.3) # wait for 1 seconds\n",
    "    pyautogui.hotkey(\"del\")\n",
    "\n",
    "    pyautogui.moveTo(bing_ai_no_text_position2) # move the mouse to the pixel \n",
    "    pyautogui.click() # click the mouse\n",
    "    time.sleep(0.5) # wait for 1 seconds\n",
    "\n",
    "    pyautogui.moveTo(bing_ai_clear_position) # move the mouse to the pixel \n",
    "    time.sleep(0.5) # wait for 1 seconds\n",
    "    pyautogui.click() # click the mouse\n",
    "    time.sleep(1)"
   ]
  },
  {
   "cell_type": "code",
   "execution_count": 7,
   "metadata": {},
   "outputs": [],
   "source": [
    "def write_in_bing(text_to_write):\n",
    "    pyautogui.moveTo(bing_ai_text_position) # move the mouse to the pixel \n",
    "    time.sleep(0.3) # wait for 1 second\n",
    "    pyautogui.click() # click the mouse\n",
    "\n",
    "    pyautogui.write(text_to_write)\n",
    "\n"
   ]
  },
  {
   "cell_type": "code",
   "execution_count": 8,
   "metadata": {},
   "outputs": [],
   "source": [
    "def copy_answer():\n",
    "    pyautogui.moveTo(bing_answer_position) # move the mouse to the pixel \n",
    "    time.sleep(0.3) # wait for 1 second\n",
    "    pyautogui.click() # click the mouse\n",
    "\n",
    "    pyautogui.hotkey(\"ctrl\", \"a\")\n",
    "    time.sleep(0.3) # wait for 1 second\n",
    "\n",
    "    pyautogui.hotkey(\"ctrl\", \"c\")\n",
    "    time.sleep(0.1) # wait for 1 second\n",
    "    pyautogui.hotkey(\"ctrl\", \"c\")\n",
    "    time.sleep(0.1) # wait for 1 second\n",
    "    return pyperclip.paste()\n"
   ]
  },
  {
   "cell_type": "code",
   "execution_count": 9,
   "metadata": {},
   "outputs": [
    {
     "name": "stdout",
     "output_type": "stream",
     "text": [
      "H:\\SPEAMMMM\\TikTok\\try 2\\test image\\4.png\n"
     ]
    }
   ],
   "source": [
    "my_prompt = Image_prompt_generator_prompt+' \"'+todays_script+'\"'\n",
    "time.sleep(4)\n",
    "clear_bing()\n",
    "write_in_bing(my_prompt)\n",
    "pyautogui.press('Enter')\n",
    "time.sleep(30)\n",
    "answer = copy_answer()\n",
    "print(answer)"
   ]
  },
  {
   "cell_type": "code",
   "execution_count": null,
   "metadata": {},
   "outputs": [],
   "source": []
  },
  {
   "cell_type": "code",
   "execution_count": null,
   "metadata": {},
   "outputs": [],
   "source": []
  },
  {
   "cell_type": "code",
   "execution_count": null,
   "metadata": {},
   "outputs": [],
   "source": []
  },
  {
   "cell_type": "code",
   "execution_count": null,
   "metadata": {},
   "outputs": [],
   "source": []
  },
  {
   "cell_type": "code",
   "execution_count": 31,
   "metadata": {},
   "outputs": [],
   "source": [
    "def from_mario_to_arig(dims):\n",
    "    return int(dims[0]/1920*1280),int(dims[1]/1080*720)"
   ]
  },
  {
   "cell_type": "code",
   "execution_count": null,
   "metadata": {},
   "outputs": [],
   "source": []
  },
  {
   "cell_type": "code",
   "execution_count": 78,
   "metadata": {},
   "outputs": [],
   "source": [
    "temp = cv2.imread(r'H:\\SPEAMMMM\\TikTok\\try 2\\test image\\search_for\\1.png',0)"
   ]
  },
  {
   "cell_type": "code",
   "execution_count": 79,
   "metadata": {},
   "outputs": [],
   "source": [
    "def find_temp_in_img(template,image):\n",
    "    bgr= cv2.cvtColor(image, cv2.COLOR_RGB2BGR)\n",
    "    \n",
    "\n",
    "    gray= cv2.cvtColor(bgr, cv2.COLOR_BGR2GRAY)\n",
    "    result= cv2.matchTemplate(gray, template, cv2.TM_CCOEFF)\n",
    "    min_val, max_val, min_loc, max_loc= cv2.minMaxLoc(result)\n",
    "\n",
    "    height, width= template.shape[:2]\n",
    "\n",
    "\n",
    "    top_left= max_loc\n",
    "    bottom_right= (top_left[0] + width, top_left[1] + height)\n",
    "    cv2.rectangle(image, top_left, bottom_right, (0,0,255),5)\n",
    "    print(top_left[0] + width , top_left[1] )\n",
    "    return top_left[0] + width-10 , top_left[1] +10\n",
    "\n"
   ]
  },
  {
   "cell_type": "code",
   "execution_count": 80,
   "metadata": {},
   "outputs": [],
   "source": [
    "def find_the_copy_buttom():\n",
    "    \"Takes a screenshot and searches for 'more' buttom\"\n",
    "    im1= np.asarray(pyautogui.screenshot())\n",
    "    return  find_temp_in_img(temp,im1)\n",
    "    \n"
   ]
  },
  {
   "cell_type": "code",
   "execution_count": 81,
   "metadata": {},
   "outputs": [
    {
     "name": "stdout",
     "output_type": "stream",
     "text": [
      "1810 696\n"
     ]
    }
   ],
   "source": [
    "time.sleep(3)\n",
    "the_copy_button_pos =find_the_copy_buttom()\n",
    "pyautogui.moveTo(the_copy_button_pos)"
   ]
  },
  {
   "cell_type": "code",
   "execution_count": 82,
   "metadata": {},
   "outputs": [],
   "source": [
    "def copy_answer2():\n",
    "    pyautogui.moveTo(bing_answer_position) # move the mouse to the pixel \n",
    "    time.sleep(0.3) # wait for 1 second\n",
    "    pyautogui.click() # click the mouse\n",
    "\n",
    "    copy_button_pos = find_the_copy_buttom()\n",
    "\n",
    "    pyautogui.moveTo(copy_button_pos) # move the mouse to the pixel \n",
    "    time.sleep(0.2) # wait for 1 second\n",
    "    pyautogui.click() # click the mouse\n",
    "\n",
    "    pyautogui.moveTo(copy_button_pos[0],copy_button_pos[1]+30) # move the mouse to the pixel \n",
    "    time.sleep(0.2) # wait for 1 second\n",
    "    pyautogui.click() # click the mouse\n",
    "\n",
    "\n",
    "    return pyperclip.paste()"
   ]
  },
  {
   "cell_type": "code",
   "execution_count": 84,
   "metadata": {},
   "outputs": [
    {
     "name": "stdout",
     "output_type": "stream",
     "text": [
      "1810 613\n",
      "Here are three image prompts suitable for your video script:\n",
      "\n",
      "- A close-up of the Sun with solar flares and plasma loops\n",
      "- A comparison of the Eiffel Tower and the Sun's diameter\n",
      "- A spiral galaxy with a bright core and colorful stars\n"
     ]
    }
   ],
   "source": [
    "time.sleep(3)\n",
    "print(copy_answer2())"
   ]
  },
  {
   "cell_type": "code",
   "execution_count": 24,
   "metadata": {},
   "outputs": [
    {
     "data": {
      "text/plain": [
       "'pyperclip'"
      ]
     },
     "execution_count": 24,
     "metadata": {},
     "output_type": "execute_result"
    }
   ],
   "source": [
    "answer"
   ]
  },
  {
   "cell_type": "code",
   "execution_count": 26,
   "metadata": {},
   "outputs": [
    {
     "name": "stdout",
     "output_type": "stream",
     "text": [
      "['pyperclip']\n"
     ]
    }
   ],
   "source": [
    "\n",
    "list = []\n",
    "list.append(answer) \n",
    "print(list)"
   ]
  }
 ],
 "metadata": {
  "kernelspec": {
   "display_name": "Python 3",
   "language": "python",
   "name": "python3"
  },
  "language_info": {
   "codemirror_mode": {
    "name": "ipython",
    "version": 3
   },
   "file_extension": ".py",
   "mimetype": "text/x-python",
   "name": "python",
   "nbconvert_exporter": "python",
   "pygments_lexer": "ipython3",
   "version": "3.10.11"
  },
  "orig_nbformat": 4
 },
 "nbformat": 4,
 "nbformat_minor": 2
}
